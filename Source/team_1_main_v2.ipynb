{
 "cells": [
  {
   "cell_type": "markdown",
   "metadata": {},
   "source": [
    "# HOW IS GENDER DISTRIBUTED ON EPFL CAMPUS AND CAN WE PREDICT IT ?\n",
    "NTDS 2019 project main file\n",
    "* Team: 1\n",
    "* Students: Magnin Jonathan, Nonaca Darja, Shmeis Zeinab, Wang Shu\n",
    "\n",
    "## LICENSE\n",
    "### YOLO LICENSE\n",
    "Version 2, July 29 2016\n",
    "\n",
    "THIS SOFTWARE LICENSE IS PROVIDED \"ALL CAPS\" SO THAT YOU KNOW IT IS SUPER\n",
    "SERIOUS AND YOU DON'T MESS AROUND WITH COPYRIGHT LAW BECAUSE YOU WILL GET IN\n",
    "TROUBLE HERE ARE SOME OTHER BUZZWORDS COMMONLY IN THESE THINGS WARRANTIES\n",
    "LIABILITY CONTRACT TORT LIABLE CLAIMS RESTRICTION MERCHANTABILITY. NOW HERE'S\n",
    "THE REAL LICENSE:\n",
    "\n",
    "0. Darknet is public domain.\n",
    "1. Do whatever you want with it.\n",
    "2. Stop emailing me about it!\n",
    "\n",
    "## DESCRIPTION\n",
    "This notebook contains all the code of our project. It is structured in the following way :\n",
    "\n",
    "* Data Aquisition and Formatting\n",
    "* Data Processing\n",
    "* Data Exploration\n",
    "    * Dimensionality reduction\n",
    "    * Graph creation and visualization\n",
    "* Prediction\n"
   ]
  },
  {
   "cell_type": "markdown",
   "metadata": {},
   "source": [
    "## 0. Packages"
   ]
  },
  {
   "cell_type": "code",
   "execution_count": 1,
   "metadata": {},
   "outputs": [],
   "source": [
    "# packages\n",
    "import numpy as np\n",
    "import pandas as pd\n",
    "import matplotlib.pyplot as plt\n",
    "import math\n",
    "import os\n",
    "from sklearn.decomposition import PCA\n",
    "from sklearn.manifold import TSNE, Isomap\n",
    "from sklearn.linear_model import LogisticRegression\n",
    "from mpl_toolkits.mplot3d import Axes3D\n",
    "from sklearn.svm import SVC\n",
    "from sklearn.svm import LinearSVC\n",
    "import networkx as nx\n",
    "from scipy.spatial.distance import pdist, squareform"
   ]
  },
  {
   "cell_type": "markdown",
   "metadata": {},
   "source": [
    "## 1. Data Aquisition and Formatting\n",
    "Most of the data aquisition is done in the create_dataset.ipynb file, that cannot be executed because private data are not uploaded.\n",
    "The result of this code is in the Dataset folder, we simply load it."
   ]
  },
  {
   "cell_type": "code",
   "execution_count": 2,
   "metadata": {},
   "outputs": [
    {
     "data": {
      "text/html": [
       "<div>\n",
       "<style scoped>\n",
       "    .dataframe tbody tr th:only-of-type {\n",
       "        vertical-align: middle;\n",
       "    }\n",
       "\n",
       "    .dataframe tbody tr th {\n",
       "        vertical-align: top;\n",
       "    }\n",
       "\n",
       "    .dataframe thead th {\n",
       "        text-align: right;\n",
       "    }\n",
       "</style>\n",
       "<table border=\"1\" class=\"dataframe\">\n",
       "  <thead>\n",
       "    <tr style=\"text-align: right;\">\n",
       "      <th></th>\n",
       "      <th>Unnamed: 0</th>\n",
       "      <th>course</th>\n",
       "      <th>course_sct</th>\n",
       "      <th>prof</th>\n",
       "      <th>sct_student</th>\n",
       "      <th>year</th>\n",
       "      <th>gender</th>\n",
       "      <th>nationality</th>\n",
       "      <th>student_id</th>\n",
       "    </tr>\n",
       "  </thead>\n",
       "  <tbody>\n",
       "    <tr>\n",
       "      <td>0</td>\n",
       "      <td>0</td>\n",
       "      <td>1st Workshop on Advances in CFD and MD modelli...</td>\n",
       "      <td>Energie (edoc)</td>\n",
       "      <td>Thome John Richard, Magnini Mirco, Various lec...</td>\n",
       "      <td>Mécanique (edoc), EDOC</td>\n",
       "      <td>2016-2017</td>\n",
       "      <td>Monsieur</td>\n",
       "      <td>suisse</td>\n",
       "      <td>27667</td>\n",
       "    </tr>\n",
       "    <tr>\n",
       "      <td>1</td>\n",
       "      <td>1</td>\n",
       "      <td>Similarity and Transport Phenomena in Fluid</td>\n",
       "      <td>Mécanique (edoc)</td>\n",
       "      <td>Ancey Christophe</td>\n",
       "      <td>Mécanique (edoc), EDOC</td>\n",
       "      <td>2016-2017</td>\n",
       "      <td>Monsieur</td>\n",
       "      <td>suisse</td>\n",
       "      <td>27667</td>\n",
       "    </tr>\n",
       "    <tr>\n",
       "      <td>2</td>\n",
       "      <td>4</td>\n",
       "      <td>1st Workshop on Advances in CFD and MD modelli...</td>\n",
       "      <td>Energie (edoc)</td>\n",
       "      <td>Thome John Richard, Magnini Mirco, Various lec...</td>\n",
       "      <td>Energie (edoc), EDOC</td>\n",
       "      <td>2016-2017</td>\n",
       "      <td>Monsieur</td>\n",
       "      <td>allemande</td>\n",
       "      <td>46270</td>\n",
       "    </tr>\n",
       "    <tr>\n",
       "      <td>3</td>\n",
       "      <td>6</td>\n",
       "      <td>2D Layered Materials: Synthesis, Properties an...</td>\n",
       "      <td>Science et génie des matériaux (edoc)</td>\n",
       "      <td>Kis Andras</td>\n",
       "      <td>Auditeurs EDOC, 2016-2017</td>\n",
       "      <td>2016-2017</td>\n",
       "      <td>Monsieur</td>\n",
       "      <td>suisse</td>\n",
       "      <td>21602</td>\n",
       "    </tr>\n",
       "    <tr>\n",
       "      <td>4</td>\n",
       "      <td>8</td>\n",
       "      <td>2D Layered Materials: Synthesis, Properties an...</td>\n",
       "      <td>Science et génie des matériaux (edoc)</td>\n",
       "      <td>Kis Andras</td>\n",
       "      <td>Physique (edoc), EDOC</td>\n",
       "      <td>2016-2017</td>\n",
       "      <td>Monsieur</td>\n",
       "      <td>française</td>\n",
       "      <td>48264</td>\n",
       "    </tr>\n",
       "    <tr>\n",
       "      <td>...</td>\n",
       "      <td>...</td>\n",
       "      <td>...</td>\n",
       "      <td>...</td>\n",
       "      <td>...</td>\n",
       "      <td>...</td>\n",
       "      <td>...</td>\n",
       "      <td>...</td>\n",
       "      <td>...</td>\n",
       "      <td>...</td>\n",
       "    </tr>\n",
       "    <tr>\n",
       "      <td>227482</td>\n",
       "      <td>229274</td>\n",
       "      <td>Théorie et critique du projet MA1 (Födinger)</td>\n",
       "      <td>Mobilité AR</td>\n",
       "      <td>Födinger Karsten</td>\n",
       "      <td>NaN</td>\n",
       "      <td>2019-2020, Semestre automne</td>\n",
       "      <td>Monsieur</td>\n",
       "      <td>allemande</td>\n",
       "      <td>67309</td>\n",
       "    </tr>\n",
       "    <tr>\n",
       "      <td>227483</td>\n",
       "      <td>229275</td>\n",
       "      <td>UE A: Art and architecture</td>\n",
       "      <td>Mobilité AR</td>\n",
       "      <td>Weber Christoph</td>\n",
       "      <td>NaN</td>\n",
       "      <td>2019-2020, Semestre automne</td>\n",
       "      <td>Monsieur</td>\n",
       "      <td>allemande</td>\n",
       "      <td>67309</td>\n",
       "    </tr>\n",
       "    <tr>\n",
       "      <td>227484</td>\n",
       "      <td>229276</td>\n",
       "      <td>Théorie et critique du projet MA1 (Weinand)</td>\n",
       "      <td>Mobilité AR</td>\n",
       "      <td>Weinand Yves</td>\n",
       "      <td>NaN</td>\n",
       "      <td>2019-2020, Semestre automne</td>\n",
       "      <td>Madame</td>\n",
       "      <td>allemande</td>\n",
       "      <td>67287</td>\n",
       "    </tr>\n",
       "    <tr>\n",
       "      <td>227485</td>\n",
       "      <td>229277</td>\n",
       "      <td>UE K : Architecture et durabilité : études de ...</td>\n",
       "      <td>Mobilité AR</td>\n",
       "      <td>Rey Emmanuel, Fivet Corentin Jean Dominique, F...</td>\n",
       "      <td>NaN</td>\n",
       "      <td>2019-2020, Semestre automne</td>\n",
       "      <td>Madame</td>\n",
       "      <td>allemande</td>\n",
       "      <td>67287</td>\n",
       "    </tr>\n",
       "    <tr>\n",
       "      <td>227486</td>\n",
       "      <td>229278</td>\n",
       "      <td>Visions et Utopies</td>\n",
       "      <td>Architecture</td>\n",
       "      <td>Braghieri Nicola</td>\n",
       "      <td>Mobilité AR, 2019-2020, Semestre automne</td>\n",
       "      <td>2019-2020, Master semestre 1</td>\n",
       "      <td>Madame</td>\n",
       "      <td>allemande</td>\n",
       "      <td>67287</td>\n",
       "    </tr>\n",
       "  </tbody>\n",
       "</table>\n",
       "<p>227487 rows × 9 columns</p>\n",
       "</div>"
      ],
      "text/plain": [
       "        Unnamed: 0                                             course  \\\n",
       "0                0  1st Workshop on Advances in CFD and MD modelli...   \n",
       "1                1        Similarity and Transport Phenomena in Fluid   \n",
       "2                4  1st Workshop on Advances in CFD and MD modelli...   \n",
       "3                6  2D Layered Materials: Synthesis, Properties an...   \n",
       "4                8  2D Layered Materials: Synthesis, Properties an...   \n",
       "...            ...                                                ...   \n",
       "227482      229274       Théorie et critique du projet MA1 (Födinger)   \n",
       "227483      229275                         UE A: Art and architecture   \n",
       "227484      229276        Théorie et critique du projet MA1 (Weinand)   \n",
       "227485      229277  UE K : Architecture et durabilité : études de ...   \n",
       "227486      229278                                 Visions et Utopies   \n",
       "\n",
       "                                   course_sct  \\\n",
       "0                              Energie (edoc)   \n",
       "1                            Mécanique (edoc)   \n",
       "2                              Energie (edoc)   \n",
       "3       Science et génie des matériaux (edoc)   \n",
       "4       Science et génie des matériaux (edoc)   \n",
       "...                                       ...   \n",
       "227482                            Mobilité AR   \n",
       "227483                            Mobilité AR   \n",
       "227484                            Mobilité AR   \n",
       "227485                            Mobilité AR   \n",
       "227486                           Architecture   \n",
       "\n",
       "                                                     prof  \\\n",
       "0       Thome John Richard, Magnini Mirco, Various lec...   \n",
       "1                                        Ancey Christophe   \n",
       "2       Thome John Richard, Magnini Mirco, Various lec...   \n",
       "3                                              Kis Andras   \n",
       "4                                              Kis Andras   \n",
       "...                                                   ...   \n",
       "227482                                   Födinger Karsten   \n",
       "227483                                    Weber Christoph   \n",
       "227484                                       Weinand Yves   \n",
       "227485  Rey Emmanuel, Fivet Corentin Jean Dominique, F...   \n",
       "227486                                   Braghieri Nicola   \n",
       "\n",
       "                                     sct_student  \\\n",
       "0                         Mécanique (edoc), EDOC   \n",
       "1                         Mécanique (edoc), EDOC   \n",
       "2                           Energie (edoc), EDOC   \n",
       "3                      Auditeurs EDOC, 2016-2017   \n",
       "4                          Physique (edoc), EDOC   \n",
       "...                                          ...   \n",
       "227482                                       NaN   \n",
       "227483                                       NaN   \n",
       "227484                                       NaN   \n",
       "227485                                       NaN   \n",
       "227486  Mobilité AR, 2019-2020, Semestre automne   \n",
       "\n",
       "                                 year    gender nationality  student_id  \n",
       "0                           2016-2017  Monsieur     suisse        27667  \n",
       "1                           2016-2017  Monsieur     suisse        27667  \n",
       "2                           2016-2017  Monsieur  allemande        46270  \n",
       "3                           2016-2017  Monsieur     suisse        21602  \n",
       "4                           2016-2017  Monsieur  française        48264  \n",
       "...                               ...       ...         ...         ...  \n",
       "227482    2019-2020, Semestre automne  Monsieur  allemande        67309  \n",
       "227483    2019-2020, Semestre automne  Monsieur  allemande        67309  \n",
       "227484    2019-2020, Semestre automne    Madame  allemande        67287  \n",
       "227485    2019-2020, Semestre automne    Madame  allemande        67287  \n",
       "227486   2019-2020, Master semestre 1    Madame  allemande        67287  \n",
       "\n",
       "[227487 rows x 9 columns]"
      ]
     },
     "execution_count": 2,
     "metadata": {},
     "output_type": "execute_result"
    }
   ],
   "source": [
    "# load dataset\n",
    "complete_data = pd.read_csv(\"../Dataset/complete_data.csv\")\n",
    "complete_test_data = pd.read_csv(\"../Dataset/complete_test_data.csv\")\n",
    "\n",
    "# have a look at the data\n",
    "complete_data"
   ]
  },
  {
   "cell_type": "markdown",
   "metadata": {},
   "source": [
    "## 2. Data Processing"
   ]
  },
  {
   "cell_type": "markdown",
   "metadata": {},
   "source": [
    "### 2.1 Sorting\n",
    "The goal of this section is to extract the features, which are the courses that each students subscribes to.\n",
    "In these data, we do not want to use everything.\n",
    "We work with master students and courses because includoing bachelor students has three problems :\n",
    "\n",
    "* It lower the prediction accuracy due to the large amount of common courses\n",
    "* It deteriorates the quality of visualization\n",
    "* It does not makes much sense to include it since there is no or little choice in bachelor courses and we base our prediction on this choice\n",
    "\n",
    "Thus, we only use data from master students."
   ]
  },
  {
   "cell_type": "code",
   "execution_count": 3,
   "metadata": {},
   "outputs": [],
   "source": [
    "# identify bachelor and master students\n",
    "year = complete_data['year']\n",
    "ma =['Master' in s for s in year]\n",
    "ba = ['Bachelor' in s for s in year]\n",
    "pd_master = complete_data[ma]\n",
    "pd_bachelor = complete_data[ba]"
   ]
  },
  {
   "cell_type": "code",
   "execution_count": 4,
   "metadata": {},
   "outputs": [
    {
     "name": "stdout",
     "output_type": "stream",
     "text": [
      "Number of Master students: 6530\n",
      "Number of Bachelor students: 10464\n"
     ]
    }
   ],
   "source": [
    "print(f\"Number of Master students: {len(pd_master['student_id'].unique())}\")\n",
    "print(f\"Number of Bachelor students: {len(pd_bachelor['student_id'].unique())}\")"
   ]
  },
  {
   "cell_type": "code",
   "execution_count": 5,
   "metadata": {},
   "outputs": [
    {
     "name": "stdout",
     "output_type": "stream",
     "text": [
      "Number of Master courses: 966\n",
      "Number of Bachelor courses: 755\n"
     ]
    }
   ],
   "source": [
    "print(f\"Number of Master courses: {len(pd_master['course'].unique())}\")\n",
    "print(f\"Number of Bachelor courses: {len(pd_bachelor['course'].unique())}\")"
   ]
  },
  {
   "cell_type": "code",
   "execution_count": 6,
   "metadata": {},
   "outputs": [
    {
     "data": {
      "text/plain": [
       "Machine learning                                                    846\n",
       "Applied data analysis                                               756\n",
       "Management de projet et analyse du risque                           651\n",
       "Image processing I                                                  598\n",
       "Applied machine learning                                            533\n",
       "                                                                   ... \n",
       "Stages semestriels                                                    1\n",
       "Projet de master en ingénierie financière                             1\n",
       "Single- and two-phase particulate flows                               1\n",
       "Projet de master en gestion de l'énergie et construction durable      1\n",
       "UE I : Analogue-Digital-Virtuel                                       1\n",
       "Name: course, Length: 966, dtype: int64"
      ]
     },
     "execution_count": 6,
     "metadata": {},
     "output_type": "execute_result"
    }
   ],
   "source": [
    "course_count = pd_master['course'].value_counts()\n",
    "course_count"
   ]
  },
  {
   "cell_type": "code",
   "execution_count": 7,
   "metadata": {},
   "outputs": [],
   "source": [
    "#get all student ids and the courses\n",
    "stud_ids = pd_master[\"student_id\"].unique()\n",
    "courses = pd_master['course'].unique()\n",
    "n_stud = len(stud_ids)\n",
    "n_c = len(courses)"
   ]
  },
  {
   "cell_type": "markdown",
   "metadata": {},
   "source": [
    "### 2.2 Preparing the features matrix for ML part"
   ]
  },
  {
   "cell_type": "code",
   "execution_count": 8,
   "metadata": {},
   "outputs": [],
   "source": [
    "# creating the  student_course_matrix\n",
    "student_course_matrix = np.empty((n_stud, n_c))\n",
    "for idx, row in pd_master.iterrows():\n",
    "    l = np.where(row[\"student_id\"] == stud_ids)\n",
    "    c = np.where(courses == row[\"course\"])\n",
    "    student_course_matrix[l[0][0]][c[0][0]] = 1"
   ]
  },
  {
   "cell_type": "markdown",
   "metadata": {},
   "source": [
    "Here we prepare the test data to be used in the machine learning part. These data are from 2015-2016 and we need to treat them as in the previous block (we remove the bachelor students)."
   ]
  },
  {
   "cell_type": "code",
   "execution_count": 9,
   "metadata": {},
   "outputs": [],
   "source": [
    "# isolate master students \n",
    "year = complete_test_data['year']\n",
    "ma =['Master' in s for s in year]\n",
    "pd_master_test = complete_test_data[ma]\n",
    "stud_ids_test = pd_master_test[\"student_id\"].unique()\n",
    "courses = pd_master_test['course'].unique()\n",
    "\n",
    "n_stud = stud_ids_test.shape[0]\n",
    "n_c = courses.shape[0]\n",
    "student_course_matrix_test = np.empty((n_stud, n_c))\n",
    "for idx, row in pd_master_test.iterrows():\n",
    "    l = np.where(row[\"student_id\"] == stud_ids_test)\n",
    "    c = np.where(courses == row[\"course\"])\n",
    "    student_course_matrix_test[l[0][0]][c[0][0]] = 1"
   ]
  },
  {
   "cell_type": "markdown",
   "metadata": {},
   "source": [
    "Finaly, let us have a look at the feature matrices :"
   ]
  },
  {
   "cell_type": "code",
   "execution_count": 10,
   "metadata": {},
   "outputs": [
    {
     "data": {
      "image/png": "[encoded data removed]",
      "text/plain": [
       "<Figure size 1296x360 with 2 Axes>"
      ]
     },
     "metadata": {
      "needs_background": "light"
     },
     "output_type": "display_data"
    }
   ],
   "source": [
    "# plot feature matrices\n",
    "\n",
    "fig = plt.figure(figsize=(18,5))\n",
    "fig1 = plt.gcf()\n",
    "plt.subplot(121)\n",
    "plt.xlabel('courses')\n",
    "plt.ylabel('students')\n",
    "plt.title('training feature matrix')\n",
    "plt.imshow(student_course_matrix, aspect='auto', cmap='binary')\n",
    "\n",
    "plt.subplot(122)\n",
    "plt.xlabel('courses')\n",
    "plt.ylabel('students')\n",
    "plt.title('test feature matrix')\n",
    "plt.imshow(student_course_matrix_test, aspect='auto', cmap='binary')\n",
    "\n",
    "plt.show()\n",
    "fig1.savefig('../Images/student_course_matrix.png')"
   ]
  },
  {
   "cell_type": "markdown",
   "metadata": {},
   "source": [
    "**Labeling for ML**\n",
    "The goal of this section is to create labels for prediction. We will use the following labels :\n",
    "* Sections\n",
    "* Faculties\n",
    "* Gender"
   ]
  },
  {
   "cell_type": "code",
   "execution_count": 11,
   "metadata": {},
   "outputs": [
    {
     "name": "stdout",
     "output_type": "stream",
     "text": [
      "All sections :\n",
      "0 : Approches moléculaires du vivant (edoc)\n",
      "1 : Architecture\n",
      "2 : Architecture et sciences de la ville (edoc)\n",
      "3 : Auditeurs libres\n",
      "4 : Bioingénierie\n",
      "5 : Biologie computationnelle et quantitative (edoc)\n",
      "6 : Biotechnologie et génie biologique (edoc)\n",
      "7 : Chimie et génie chimique\n",
      "8 : Chimie et génie chimique (edoc)\n",
      "9 : Chimie moléculaire et biologique\n",
      "10 : Data Science\n",
      "11 : Energie (edoc)\n",
      "12 : Energy Science and Technology\n",
      "13 : Gestion de l'énergie et durabilité\n",
      "14 : Génie chimique et biotechnologie\n",
      "15 : Génie civil\n",
      "16 : Génie civil et environnement (edoc)\n",
      "17 : Génie mécanique\n",
      "18 : Génie nucléaire\n",
      "19 : Génie électrique (edoc)\n",
      "20 : Génie électrique et électronique \n",
      "21 : Humanités digitales\n",
      "22 : Informatique\n",
      "23 : Informatique - Cybersecurity\n",
      "24 : Informatique et communications (edoc)\n",
      "25 : Ingénierie des sciences du vivant\n",
      "26 : Ingénierie financière\n",
      "27 : Ingénierie mathématique\n",
      "28 : Ingénierie physique\n",
      "29 : Management\n",
      "30 : Management de la technologie (edoc)\n",
      "31 : Manufacturing (edoc)\n",
      "32 : Mathématiques\n",
      "33 : Mathématiques (edoc)\n",
      "34 : Mathématiques - master\n",
      "35 : Mathématiques pour l'enseignement\n",
      "36 : Micro- and Nanotechnologies for Integrated Systems\n",
      "37 : Microsystèmes et microélectronique (edoc)\n",
      "38 : Microtechnique\n",
      "39 : Mobilité AR\n",
      "40 : Mobilité CGC\n",
      "41 : Mobilité EL\n",
      "42 : Mobilité GC\n",
      "43 : Mobilité GM\n",
      "44 : Mobilité IF\n",
      "45 : Mobilité IN\n",
      "46 : Mobilité MA\n",
      "47 : Mobilité MT\n",
      "48 : Mobilité MTE\n",
      "49 : Mobilité MX\n",
      "50 : Mobilité PH\n",
      "51 : Mobilité SC\n",
      "52 : Mobilité SIE\n",
      "53 : Mobilité SV\n",
      "54 : Mécanique (edoc)\n",
      "55 : Neurosciences (edoc)\n",
      "56 : Passerelle HES - GM\n",
      "57 : Photonique (edoc)\n",
      "58 : Physique\n",
      "59 : Physique (edoc)\n",
      "60 : Physique - master\n",
      "61 : Robotique\n",
      "62 : Science et génie des matériaux\n",
      "63 : Science et génie des matériaux (edoc)\n",
      "64 : Science et ingénierie computationnelles\n",
      "65 : Sciences et ingénierie de l'environnement\n",
      "66 : Sciences et technologies du vivant - master\n",
      "67 : Systèmes de communication\n",
      "68 : Systèmes de communication - master\n",
      "69 : UNIL - Autres facultés\n",
      "70 : UNIL - Biologie\n",
      "71 : UNIL - Géosciences \n",
      "72 : UNIL - HEC\n",
      "73 : UNIL - Médecine \n",
      "74 : UNIL - Sciences forensiques\n",
      "75 : other\n"
     ]
    }
   ],
   "source": [
    "# section labels for training data\n",
    "sections = pd_master['sct_student'].unique()\n",
    "new_sections = np.ndarray(0)\n",
    "\n",
    "# remove unwanted info (year/semester)\n",
    "for line in sections :\n",
    "    if type(line) is str :\n",
    "        new_line = line.split(\",\")[0]\n",
    "        new_sections = np.append(new_sections, new_line)\n",
    "\n",
    "# create the section list with an \"other\" section for undefined fields of the dataset\n",
    "new_sections = np.append(new_sections, [\"other\"])\n",
    "sections = np.unique(new_sections)\n",
    "print(\"All sections :\")\n",
    "for i,s in enumerate(sections) :\n",
    "    print((str)(i) + \" : \" + s)\n",
    "    \n",
    "# create (numeric) labels, the labels will be the index of the section in the array above\n",
    "students_sct_label = np.ndarray(stud_ids.shape)\n",
    "for i in range(0,stud_ids.shape[0]) :\n",
    "    # get section of student\n",
    "    id = stud_ids[i]\n",
    "    sct = complete_data.loc[complete_data[\"student_id\"] == id, \"sct_student\"] # will return EVERY entry of student's section : can sometimes be NaN !!!\n",
    "    for elem in sct :\n",
    "        if type(elem) is str :\n",
    "            sct = elem\n",
    "            break\n",
    "    \n",
    "    # if there are only NaN\n",
    "    if type(sct) is not str :\n",
    "        sct = \"other\"\n",
    "    \n",
    "    # find the good label\n",
    "    for j in range(0, sections.shape[0]) :\n",
    "        if (sct.find(sections[j]) != -1) :\n",
    "            students_sct_label[i] = (int)(j)\n",
    "            break\n",
    "\n",
    "# gender labels for training data\n",
    "students_gender = list()\n",
    "for i in range(0, stud_ids.shape[0]) :\n",
    "    id = stud_ids[i]\n",
    "    gender = (str)(complete_data.loc[complete_data[\"student_id\"] == id, \"gender\"])\n",
    "    if gender.find(\"Monsieur\") != -1 :\n",
    "        gender = 1\n",
    "    else :\n",
    "        gender = 0\n",
    "    students_gender.append(gender)\n",
    "\n",
    "# gender labels for test data\n",
    "students_gender_test = list()\n",
    "for i in range(0, stud_ids_test.shape[0]) :\n",
    "    id = stud_ids_test[i]\n",
    "    gender = (str)(complete_test_data.loc[complete_test_data[\"student_id\"] == id, \"gender\"])\n",
    "    if gender.find(\"Monsieur\") != -1 :\n",
    "        gender = 1\n",
    "    else :\n",
    "        gender = 0\n",
    "    students_gender_test.append(gender)"
   ]
  },
  {
   "cell_type": "markdown",
   "metadata": {},
   "source": [
    "We can see that there are many, many sections. This is mostly due to exchanges, external students, \"auditeurs libres\",... Thus, to have less labels, we use the \"real\" sections, for instance, an exchange student in EL is indeed in the EL section. We also regroup the sections in their faculties to have an even smaller amount of labels, but this might be slightly gross."
   ]
  },
  {
   "cell_type": "code",
   "execution_count": 12,
   "metadata": {},
   "outputs": [],
   "source": [
    "# create an array that makes sections correspond to faculties\n",
    "sct_to_fac = list()\n",
    "\n",
    "for i in range(0, sections.shape[0]) :\n",
    "    sct_to_fac.append(\"\")\n",
    "\n",
    "sct_to_fac[0] = \"SV\"\n",
    "sct_to_fac[1] = \"ENAC\"\n",
    "sct_to_fac[2] = \"ENAC\"\n",
    "sct_to_fac[3] = \"other\"\n",
    "sct_to_fac[4] = \"STI\"\n",
    "sct_to_fac[5] = \"SV\"\n",
    "sct_to_fac[6] = \"SV\"\n",
    "sct_to_fac[7] = \"SB\"\n",
    "sct_to_fac[8] = \"SB\"\n",
    "sct_to_fac[9] = \"SB\"\n",
    "sct_to_fac[10] = \"IC\"\n",
    "sct_to_fac[11] = \"STI\"\n",
    "sct_to_fac[12] = \"STI\"\n",
    "sct_to_fac[13] = \"STI\"\n",
    "sct_to_fac[14] = \"SB\"\n",
    "sct_to_fac[15] = \"ENAC\"\n",
    "sct_to_fac[16] = \"ENAC\"\n",
    "sct_to_fac[17] = \"STI\"\n",
    "sct_to_fac[18] = \"SB\"\n",
    "sct_to_fac[19] = \"STI\"\n",
    "sct_to_fac[20] = \"STI\"\n",
    "sct_to_fac[21] = \"CDH\"\n",
    "sct_to_fac[22] = \"IC\"\n",
    "sct_to_fac[23] = \"IC\"\n",
    "sct_to_fac[24] = \"IC\"\n",
    "sct_to_fac[25] = \"SV\"\n",
    "sct_to_fac[26] = \"CDM\"\n",
    "sct_to_fac[27] = \"SB\"\n",
    "sct_to_fac[28] = \"SB\"\n",
    "sct_to_fac[29] = \"CDM\"\n",
    "sct_to_fac[30] = \"CDM\"\n",
    "sct_to_fac[31] = \"STI\"\n",
    "sct_to_fac[32] = \"SB\"\n",
    "sct_to_fac[33] = \"SB\"\n",
    "sct_to_fac[34] = \"SB\"\n",
    "sct_to_fac[35] = \"SB\"\n",
    "sct_to_fac[36] = \"STI\"\n",
    "sct_to_fac[37] = \"STI\"\n",
    "sct_to_fac[38] = \"STI\"\n",
    "sct_to_fac[39] = \"ENAC\"\n",
    "sct_to_fac[40] = \"SB\"\n",
    "sct_to_fac[41] = \"STI\"\n",
    "sct_to_fac[42] = \"ENAC\"\n",
    "sct_to_fac[43] = \"STI\"\n",
    "sct_to_fac[44] = \"CDM\"\n",
    "sct_to_fac[45] = \"IC\"\n",
    "sct_to_fac[46] = \"SB\"\n",
    "sct_to_fac[47] = \"STI\"\n",
    "sct_to_fac[48] = \"CDM\"\n",
    "sct_to_fac[49] = \"STI\"\n",
    "sct_to_fac[50] = \"SB\"\n",
    "sct_to_fac[51] = \"IC\"\n",
    "sct_to_fac[52] = \"ENAC\"\n",
    "sct_to_fac[53] = \"SV\"\n",
    "sct_to_fac[54] = \"STI\"\n",
    "sct_to_fac[55] = \"SV\"\n",
    "sct_to_fac[56] = \"STI\"\n",
    "sct_to_fac[57] = \"STI\"\n",
    "sct_to_fac[58] = \"SB\"\n",
    "sct_to_fac[59] = \"SB\"\n",
    "sct_to_fac[60] = \"SB\"\n",
    "sct_to_fac[61] = \"STI\"\n",
    "sct_to_fac[62] = \"STI\"\n",
    "sct_to_fac[63] = \"STI\"\n",
    "sct_to_fac[64] = \"SB\"\n",
    "sct_to_fac[65] = \"ENAC\"\n",
    "sct_to_fac[66] = \"SV\"\n",
    "sct_to_fac[67] = \"IC\"\n",
    "sct_to_fac[68] = \"other\"\n",
    "sct_to_fac[69] = \"other\"\n",
    "sct_to_fac[70] = \"other\"\n",
    "sct_to_fac[71] = \"other\"\n",
    "sct_to_fac[72] = \"other\"\n",
    "# create  alist of all faculties\n",
    "fac_list = ['ENAC', 'IC', 'SB', 'STI', 'SV', 'CDH', 'CDM', 'other']"
   ]
  },
  {
   "cell_type": "code",
   "execution_count": 13,
   "metadata": {},
   "outputs": [],
   "source": [
    "# label the students with faculties\n",
    "students_fac = list()\n",
    "for i in range(0, stud_ids.shape[0]) :\n",
    "    id = stud_ids[i]\n",
    "    fac = sct_to_fac[(int)(students_sct_label[i])]\n",
    "    students_fac.append(fac)"
   ]
  },
  {
   "cell_type": "markdown",
   "metadata": {},
   "source": [
    "### 2.3 CLEANING DATA FOR THE GRAPHS CONSTRUCTION"
   ]
  },
  {
   "cell_type": "code",
   "execution_count": 14,
   "metadata": {},
   "outputs": [
    {
     "name": "stdout",
     "output_type": "stream",
     "text": [
      "The max number of enrolled students to a class: 846\n",
      "The avg number of enrolled students to a class: 62.997929606625256\n",
      "The standard deviation is: 76.48383092673248\n"
     ]
    },
    {
     "data": {
      "image/png": "[encoded data removed]",
      "text/plain": [
       "<Figure size 576x288 with 1 Axes>"
      ]
     },
     "metadata": {
      "needs_background": "light"
     },
     "output_type": "display_data"
    }
   ],
   "source": [
    "n_insc = pd_master['course'].value_counts().values\n",
    "max_val =n_insc.max()\n",
    "print(f\"The max number of enrolled students to a class: {max_val}\")\n",
    "mean = n_insc.mean()\n",
    "print(f\"The avg number of enrolled students to a class: {mean}\")\n",
    "std_dev = n_insc.std()\n",
    "print(f\"The standard deviation is: {std_dev}\")\n",
    "plt.figure(1, figsize=(8, 4))\n",
    "fig2 = plt.gcf()\n",
    "plt.title(\"Inscriptions per course\")\n",
    "plt.hist(n_insc, bins = 10);\n",
    "fig2.savefig('../Images/hist_stud_iscr_course.png')"
   ]
  },
  {
   "cell_type": "markdown",
   "metadata": {},
   "source": [
    "As we will link students based on the number of classes they have in common, the number of classes that we consider is proportional to the possible number of clusters. For this reason, we decide to remove less popular classes. We think that considering 241 classes is a good starting point, thus we select the 3rd quantile as the \"filtering out threshold\". "
   ]
  },
  {
   "cell_type": "code",
   "execution_count": 15,
   "metadata": {},
   "outputs": [
    {
     "name": "stdout",
     "output_type": "stream",
     "text": [
      "The 1st quantile is (will select 724.5 classes): 18.0\n",
      "The median (will select 483 classes) is: 38.5\n",
      "The 3rd quantile (will select 241.5 classes) is: 85.0\n"
     ]
    }
   ],
   "source": [
    "#plot quantiles\n",
    "print(f\"The 1st quantile is (will select 724.5 classes): {np.quantile(n_insc, 0.25)}\")\n",
    "print(f\"The median (will select 483 classes) is: {np.quantile(n_insc, 0.5)}\")\n",
    "q3 = np.quantile(n_insc, 0.75)\n",
    "print(f\"The 3rd quantile (will select 241.5 classes) is: {q3}\")"
   ]
  },
  {
   "cell_type": "code",
   "execution_count": 16,
   "metadata": {},
   "outputs": [
    {
     "data": {
      "text/plain": [
       "(37904, 9)"
      ]
     },
     "execution_count": 16,
     "metadata": {},
     "output_type": "execute_result"
    }
   ],
   "source": [
    "#eliminating the courses with less than q3 total enrollements between 2017-2019\n",
    "all_courses = pd_master['course'].value_counts().to_frame()\n",
    "courses_to_keep = all_courses.loc[all_courses[\"course\"] > q3].reset_index()\n",
    "courses_to_keep = courses_to_keep.rename( columns={\"index\":\"course\",  \"course\": \"nb_stud\"})\n",
    "courses_to_keep_names = courses_to_keep[\"course\"].values.tolist();\n",
    "pd_master_filt = pd_master[[pd_master.iloc[i][\"course\"] in courses_to_keep_names for i in np.arange(pd_master.shape[0])]]\n",
    "pd_master_filt.shape"
   ]
  },
  {
   "cell_type": "markdown",
   "metadata": {},
   "source": [
    "Creating the \"reduced\" adjacency matrix:"
   ]
  },
  {
   "cell_type": "code",
   "execution_count": null,
   "metadata": {},
   "outputs": [],
   "source": [
    "stud_ids = pd_master_filt[\"student_id\"].unique()\n",
    "n_stud = len(stud_ids)\n",
    "n_c = len(courses_to_keep_names)\n",
    "##creating the student_course_matrix\n",
    "student_course_matrix_filt = np.empty((n_stud, n_c))\n",
    "for idx, row in pd_master_filt.iterrows():\n",
    "    l = np.where(row[\"student_id\"] == stud_ids)\n",
    "    c = courses_to_keep_names.index(row[\"course\"])\n",
    "    student_course_matrix_filt[l[0][0]][c] = 1\n",
    "    \n",
    "fig = plt.figure(figsize=(6,5))\n",
    "fig3 = plt.gcf()\n",
    "plt.xlabel('courses')\n",
    "plt.ylabel('students')\n",
    "plt.title('reduced features matrix')\n",
    "plt.imshow(student_course_matrix_filt, aspect='auto', cmap='binary')\n",
    "\n",
    "plt.show()\n",
    "fig3.savefig('../Images/reduced_stud_course_matrix.png')"
   ]
  },
  {
   "cell_type": "markdown",
   "metadata": {},
   "source": [
    "**Creating labels for graph clustering**"
   ]
  },
  {
   "cell_type": "code",
   "execution_count": null,
   "metadata": {},
   "outputs": [],
   "source": [
    "import warnings\n",
    "warnings.filterwarnings('ignore')\n",
    "section = []\n",
    "for row in pd_master_filt[\"sct_student\"]:\n",
    "    if type(row) is not float:\n",
    "        section.append(row.split(\",\")[0])\n",
    "    else:\n",
    "        section.append(\"other\")\n",
    "    \n",
    "pd_master_filt['section'] = section\n",
    "\n",
    "sections = pd_master_filt['section'].unique()\n",
    "sections = sections.tolist()\n",
    "\n",
    "sections_dict = {\n",
    "'Génie électrique et électronique ': 'EL',\n",
    "'Robotique': 'MT',\n",
    "'Informatique et communications (edoc)': 'IC',\n",
    "'Mobilité EL': 'EL',\n",
    "'Management': 'MTE',\n",
    "'Génie électrique (edoc)': 'EL',\n",
    "'Ingénierie financière': 'Ingénierie financière',\n",
    "'Mobilité SV': 'SV',\n",
    "'Génie mécanique': 'GM',\n",
    "'Informatique': 'IN',\n",
    "'Systèmes de communication - master': 'IC',\n",
    "'Mathématiques - master': 'MA',\n",
    "'Génie civil et environnement (edoc)': 'GC',\n",
    "'other': 'other',\n",
    "'Ingénierie physique': 'PH',\n",
    "'Micro- and Nanotechnologies for Integrated Systems': 'EL',\n",
    "'Bioingénierie' : 'SV',\n",
    "'Physique - master' : 'PH',\n",
    "'Sciences et technologies du vivant - master': 'SV',\n",
    "'Génie civil': 'GC',\n",
    "'Mobilité GC': 'GC',\n",
    "'Physique - master': 'PH',\n",
    "'Mobilité CGC': 'CGC',\n",
    "'Mobilité SC':  'IC',\n",
    "'Mobilité GM':  'GM',\n",
    "'Mobilité MTE': 'MTE' ,\n",
    "'Informatique - Cybersecurity': 'IN',\n",
    "'Ingénierie mathématique': 'MA',\n",
    "'Ingénierie des sciences du vivant':'SV',\n",
    "'Mobilité IN':'IN',\n",
    "'Science et ingénierie computationnelles':'IC',\n",
    "'Ingénierie mathématique':'MA',\n",
    "'Photonique (edoc)':'EL',\n",
    "'Mathématiques (edoc)': 'MA',\n",
    "'Chimie moléculaire et biologique': 'CGC',\n",
    "'Energy Science and Technology':'Energie',\n",
    "'Ingénierie des sciences du vivant':'SV',\n",
    "'Génie nucléaire':'Génie nucléaire',\n",
    "'Auditeurs libres': 'others',\n",
    "'Mobilité SIE':'SIE',\n",
    "'UNIL - Sciences forensiques': 'UNIL',\n",
    "'Microsystèmes et microélectronique (edoc)': 'MT',\n",
    "'UNIL - HEC': 'UNIL',\n",
    "'Manufacturing (edoc)': 'others',\n",
    "'Physique (edoc)': 'PH',\n",
    "'Mobilité MT': 'MT',\n",
    "'Management de la technologie (edoc)':'MTE',\n",
    "'Mobilité AR':'AR',\n",
    "'Mobilité PH':'PH',\n",
    "'Biologie computationnelle et quantitative (edoc)':'SV',\n",
    "'Science et génie des matériaux (edoc)':'MX',\n",
    "'Approches moléculaires du vivant (edoc)':'SV',\n",
    "'Energie (edoc)':'Energie',\n",
    "'Architecture et sciences de la ville (edoc)':'AR',\n",
    "'Mobilité MX': 'MX',\n",
    "'Mobilité MA': 'MA',\n",
    "'Mécanique (edoc)':'GM',\n",
    "'Biotechnologie et génie biologique (edoc)':'SV',\n",
    "'UNIL - Géosciences ':'UNIL',\n",
    "'Chimie et génie chimique (edoc)':'CGC',\n",
    "'Neurosciences (edoc)':'SV',\n",
    "'UNIL - Médecine ':'UNIL',\n",
    "'Passerelle HES - GM':'GM',\n",
    "'Mobilité IF':'IN',\n",
    "'Génie chimique et biotechnologie': 'CGC', \n",
    "\"Sciences et ingénierie de l'environnement\": 'SIE',\n",
    "\"Gestion de l'énergie et durabilité\": 'Enérgie', \n",
    "'Science et génie des matériaux': 'MX', \n",
    "'Microtechnique': 'MT', \n",
    "'Data Science': 'IC', \n",
    "'Humanités digitales': 'Humanités digitales',\n",
    "'Mathématiques': 'MA', \n",
    "'Architecture': 'AR', \n",
    "\"Mathématiques pour l'enseignement\": \"Mathématiques pour l'enseignement\", \n",
    "'Chimie et génie chimique': 'CGC', \n",
    "'Physique': 'PH'}\n",
    "\n",
    "cluster = []\n",
    "for line in pd_master_filt['section']:\n",
    "    cluster.append(sections_dict[line])\n",
    "\n",
    "pd_master_filt['cluster'] = cluster\n",
    "clusters = pd_master_filt['cluster'].unique()\n",
    "#dataframe used for labels (made unique on student_id)\n",
    "pd_labels = pd_master_filt.drop_duplicates(subset = \"student_id\")\n",
    "pd_labels = pd_labels[pd_labels.columns[6:11]].reset_index().drop(columns = \"index\")\n",
    "pd_labels\n"
   ]
  },
  {
   "cell_type": "code",
   "execution_count": null,
   "metadata": {},
   "outputs": [],
   "source": [
    "#creating gender labels : 1 if a girl and 0 if a boy\n",
    "gender_label = [ 1 if row['gender'] == 'Madame' else 0 for idx, row in pd_labels.iterrows() ]\n",
    "#debug\n",
    "#np.count_nonzero(np.asarray(gender_label))\n",
    "#debug\n",
    "#pd_labels['gender'].value_counts()"
   ]
  },
  {
   "cell_type": "markdown",
   "metadata": {},
   "source": [
    "## 3. Data Exploration"
   ]
  },
  {
   "cell_type": "markdown",
   "metadata": {},
   "source": [
    "### 3.1. Dimensionality Reduction\n",
    "The students live in the \"course space\", which has a very high dimension and is thus not observable. Dimensionality reduction will allow to observe it. In this section we try different methods and then we will choose the best one:"
   ]
  },
  {
   "cell_type": "code",
   "execution_count": null,
   "metadata": {},
   "outputs": [],
   "source": [
    "dim = 2\n",
    "# PCA embedding\n",
    "PCA_embedding = PCA(n_components=dim, copy=True, whiten=True, tol=1e-5)\n",
    "stu_PCA_2d = PCA_embedding.fit_transform(student_course_matrix_filt)\n",
    "# ISOMAP\n",
    "Isomap_embedding = Isomap(n_components=dim,n_neighbors=5)\n",
    "stu_Isomap_2d = Isomap_embedding.fit_transform(student_course_matrix_filt)\n",
    "# TSNE\n",
    "TSNE_embedding = TSNE(n_components=dim)\n",
    "stu_TSNE_2d = TSNE_embedding.fit_transform(student_course_matrix_filt)\n",
    "\n",
    "dim = 3\n",
    "# PCA embedding\n",
    "PCA_embedding = PCA(n_components=dim, copy=True, whiten=True, tol=1e-5)\n",
    "stu_PCA_3d = PCA_embedding.fit_transform(student_course_matrix_filt)\n",
    "# ISOMAP\n",
    "Isomap_embedding = Isomap(n_components=dim,n_neighbors=5)\n",
    "stu_Isomap_3d = Isomap_embedding.fit_transform(student_course_matrix_filt)\n",
    "# TSNE\n",
    "TSNE_embedding = TSNE(n_components=dim)\n",
    "stu_TSNE_3d = TSNE_embedding.fit_transform(student_course_matrix_filt)\n",
    "\n",
    "# in 2d\n",
    "plt.figure(figsize=(18,5))\n",
    "plt.subplot(131)\n",
    "plt.scatter(stu_PCA_2d[:, 0], stu_PCA_2d[:, 1])\n",
    "plt.title('Embedding method: PCA')\n",
    "plt.subplot(132)\n",
    "plt.scatter(stu_Isomap_2d[:, 0], stu_Isomap_2d[:, 1])\n",
    "plt.title('Embedding method: Isomap')\n",
    "plt.subplot(133)\n",
    "plt.scatter(stu_TSNE_2d[:, 0], stu_TSNE_2d[:, 1])\n",
    "plt.title('Embedding method: TSNE')\n",
    "plt.show()\n",
    "# in 3d\n",
    "fig = plt.figure(figsize=(18,5))\n",
    "ax = fig.add_subplot(131, projection='3d')\n",
    "ax.scatter(stu_PCA_3d[:, 0], stu_PCA_3d[:, 1], stu_PCA_3d[:, 2])\n",
    "ax.title.set_text('Embedding method: PCA')\n",
    "ax = fig.add_subplot(132, projection='3d')\n",
    "ax.scatter(stu_Isomap_3d[:, 0], stu_Isomap_3d[:, 1], stu_Isomap_3d[:, 2])\n",
    "ax.title.set_text('Embedding method: Isomap')\n",
    "ax = fig.add_subplot(133, projection='3d')\n",
    "ax.scatter(stu_TSNE_3d[:, 0], stu_TSNE_3d[:, 1], stu_TSNE_3d[:, 2])\n",
    "ax.title.set_text('Embedding method: TSNE')\n",
    "plt.show()\n",
    "\n",
    "#np.savetxt(\"stu_TSNE_2d_master.dat\", stu_TSNE_2d, \"%f\")"
   ]
  },
  {
   "cell_type": "markdown",
   "metadata": {},
   "source": [
    "We conclude that the best reduction is : t-SNE in 2D. Indeed, linear methods are completely unable to show proper clusters, and most non-linear methods suffers from the crowding problem, which t-SNE takes into account."
   ]
  },
  {
   "cell_type": "markdown",
   "metadata": {},
   "source": [
    "### 3.2. Graphs creation and visualization\n",
    "\n",
    "Here we construct two graphs. For both graphs, we represent nodes as students. However, we follow two approaches to connect them:\n",
    " - In the first graph (Student Social Graph), we connect students based on the number of courses they have in common. \n",
    " - As for the second graph (Epsilon Similarity Graph), we connect students by the euclidean distance between the data points produced from the t-SNE dimensionality reduction done above. \n",
    "For building the graphs, we use the filtered data frame (see section 2.3)."
   ]
  },
  {
   "cell_type": "markdown",
   "metadata": {},
   "source": [
    "#### 3.2.1 Student Social Graph\n",
    "\n",
    "For this graph the weight of the edge represent the number of courses two students have in common, computed using the scalar prodcut of the two feature vectors."
   ]
  },
  {
   "cell_type": "code",
   "execution_count": null,
   "metadata": {},
   "outputs": [],
   "source": [
    "A_students_s = student_course_matrix_filt @ np.transpose(student_course_matrix_filt)\n",
    "np.fill_diagonal(A_students_s, 0)\n",
    "A_students_s"
   ]
  },
  {
   "cell_type": "code",
   "execution_count": null,
   "metadata": {},
   "outputs": [],
   "source": [
    "plt.figure(1, figsize=(6, 6))\n",
    "fig = plt.figure(figsize=(6,5))\n",
    "fig4 = plt.gcf()\n",
    "plt.title('Social Graph: adjacency matrix sparsity pattern')\n",
    "plt.xlabel('courses')\n",
    "plt.ylabel('students')\n",
    "plt.spy(A_students_s)\n",
    "plt.show\n",
    "fig4.savefig('../Images/reduced_stud_course_matrix2.png')"
   ]
  },
  {
   "cell_type": "code",
   "execution_count": null,
   "metadata": {},
   "outputs": [],
   "source": [
    "num_nodes = A_students_s.shape[0]\n",
    "print(f\"Number of nodes in the student graph: {num_nodes}\")\n",
    "num_edges = np.count_nonzero(A_students_s) / 2\n",
    "print(f\"Number of edges in the student graph: {num_edges}\")"
   ]
  },
  {
   "cell_type": "code",
   "execution_count": null,
   "metadata": {},
   "outputs": [],
   "source": [
    "max_weight = A_students_s.max()\n",
    "print(f\"The max number of common courses between two students: {max_weight}\")\n",
    "avg_weight = A_students_s.mean()\n",
    "print(f\"The avg number of common courses between two students: {avg_weight}\")\n",
    "std_weight = A_students_s.std()\n",
    "print(f\"The standard diviation: {std_weight}\")"
   ]
  },
  {
   "cell_type": "code",
   "execution_count": null,
   "metadata": {},
   "outputs": [],
   "source": [
    "plt.figure(1, figsize=(8, 4))\n",
    "plt.title(\"Histogram of number of common courses between student\")\n",
    "plt.hist(A_students_s.flatten());"
   ]
  },
  {
   "cell_type": "code",
   "execution_count": null,
   "metadata": {},
   "outputs": [],
   "source": [
    "degrees = np.count_nonzero(A_students_s, axis = 0)\n",
    "\n",
    "deg_hist_normalization = np.ones(degrees.shape[0]) / degrees.shape[0]\n",
    "\n",
    "plt.figure(1, figsize=(8, 4))\n",
    "plt.title('Student graph degree distribution')\n",
    "plt.hist(degrees, weights=deg_hist_normalization);"
   ]
  },
  {
   "cell_type": "markdown",
   "metadata": {},
   "source": [
    "Now we sparsify the graph we have. To this purpose we compute again the quantiles to decide the threshold (epsilon):"
   ]
  },
  {
   "cell_type": "code",
   "execution_count": null,
   "metadata": {},
   "outputs": [],
   "source": [
    "# used to determine a threshold to sparsify the graph\n",
    "edges_weights = np.sort((A_students_s[np.nonzero(A_students_s)]).flatten())\n",
    "print(f\"The 1st quantile (removing 25% of the edges) is: {np.quantile(edges_weights, 0.25)}\")\n",
    "print(f\"The median (removing 50% of the edges) is: {np.quantile(edges_weights, 0.5)}\")\n",
    "print(f\"The 3rd quantile (removing 75% of the edges) is: {np.quantile(edges_weights, 0.75)}\")"
   ]
  },
  {
   "cell_type": "markdown",
   "metadata": {},
   "source": [
    "We decide to remove half of the edges, thus we choose theshold (=epsilon) equal to 1:"
   ]
  },
  {
   "cell_type": "code",
   "execution_count": null,
   "metadata": {},
   "outputs": [],
   "source": [
    "threshold = 1\n",
    "sparsified_A_students_s = A_students_s * (A_students_s > threshold)\n",
    "sparsified_A_students_s"
   ]
  },
  {
   "cell_type": "code",
   "execution_count": null,
   "metadata": {},
   "outputs": [],
   "source": [
    "fig, axes = plt.subplots(1, 2, figsize=(12, 6))\n",
    "fig5 = plt.gcf()\n",
    "axes[0].set_title('Students graph: adjacency matrix sparsity pattern')\n",
    "axes[0].spy(A_students_s);\n",
    "axes[1].set_title('Students graph after pruning: adjacency matrix sparsity pattern')\n",
    "axes[1].spy(sparsified_A_students_s);\n",
    "\n",
    "fig5.savefig('../Images/spars_matrix_vs_non_spars.png')"
   ]
  },
  {
   "cell_type": "code",
   "execution_count": null,
   "metadata": {},
   "outputs": [],
   "source": [
    "num_edges_pruned = np.count_nonzero(sparsified_A_students_s) / 2\n",
    "print(f\"Number of edges in the non-prunned students graph: {num_edges}\")\n",
    "print(f\"Number of edges in the prunned students graph: {num_edges_pruned}\")\n",
    "print(f\"Percentage of eliminated edges: {(num_edges-num_edges_pruned)/num_edges*100} %\")"
   ]
  },
  {
   "cell_type": "code",
   "execution_count": null,
   "metadata": {},
   "outputs": [],
   "source": [
    "degrees = np.count_nonzero(sparsified_A_students_s, axis = 0)\n",
    "\n",
    "deg_hist_normalization = np.ones(degrees.shape[0]) / degrees.shape[0]\n",
    "\n",
    "plt.figure(1, figsize=(8, 4))\n",
    "plt.title('Student graph degree distribution')\n",
    "plt.hist(degrees, weights=deg_hist_normalization);"
   ]
  },
  {
   "cell_type": "code",
   "execution_count": null,
   "metadata": {},
   "outputs": [],
   "source": [
    "A_students_s = sparsified_A_students_s"
   ]
  },
  {
   "cell_type": "markdown",
   "metadata": {},
   "source": [
    "Now we save the graph for visualization:"
   ]
  },
  {
   "cell_type": "code",
   "execution_count": null,
   "metadata": {},
   "outputs": [],
   "source": [
    "G_student_s = nx.from_numpy_matrix(A_students_s)\n",
    "\n",
    "# Add node attributes\n",
    "students_section = []\n",
    "for row in pd_master[\"sct_student\"]:\n",
    "    if type(row) is not float:\n",
    "        students_section.append(row.split(\",\")[0])\n",
    "    else:\n",
    "        students_section.append(\"other\")\n",
    "students_section = pd.Series(students_section)\n",
    "\n",
    "nx.set_node_attributes(G_student_s, pd_master['gender'], 'gender')\n",
    "nx.set_node_attributes(G_student_s, students_section, 'section')"
   ]
  },
  {
   "cell_type": "code",
   "execution_count": null,
   "metadata": {},
   "outputs": [],
   "source": [
    "nx.write_gexf(G_student_s, \"gephi/student_social_graph.gexf\")"
   ]
  },
  {
   "cell_type": "markdown",
   "metadata": {},
   "source": [
    "#### 3.2.2 Epsilon Similarity Graph\n",
    "\n",
    "The second graph is build using the eculidean distance between the students' reduced features.<br>\n",
    "We use an RBF kernel to set the edge weights $w_{ij}=\\exp(-||x_i- x_j||_2^2 / ~ 2 \\sigma^2)$ of the generated distances matrix and threshold the ones with the smallest magnitude."
   ]
  },
  {
   "cell_type": "code",
   "execution_count": null,
   "metadata": {},
   "outputs": [],
   "source": [
    "distances = squareform(pdist(stu_TSNE_2d, 'euclidean'))\n",
    "\n",
    "# Build the RBF Kernel \n",
    "sigma = 1\n",
    "A_students_e = np.exp(-1 * (distances**2) / (2 * sigma**2)) \n",
    "\n",
    "# Sparsify\n",
    "x = np.sort(A_students_e.flatten(), axis = None)\n",
    "epsilon = np.quantile(x, 0.85) #0.85 is working good\n",
    "print(f\"epsilon is: {epsilon}\")\n",
    "A_students_e[A_students_e < epsilon] = 0\n",
    "\n",
    "np.fill_diagonal(A_students_e, 0)\n",
    "A_students_e"
   ]
  },
  {
   "cell_type": "code",
   "execution_count": null,
   "metadata": {},
   "outputs": [],
   "source": [
    "plt.figure(1, figsize=(6, 6))\n",
    "plt.title('Epsilon Similarity Graph: adjacency matrix sparsity pattern')\n",
    "plt.spy(A_students_e)\n",
    "plt.show"
   ]
  },
  {
   "cell_type": "code",
   "execution_count": null,
   "metadata": {},
   "outputs": [],
   "source": [
    "num_nodes = A_students_e.shape[0]\n",
    "print(f\"Number of nodes in the student-courses graph: {num_nodes}\")\n",
    "num_edges = np.count_nonzero(A_students_e) / 2\n",
    "print(f\"Number of edges in the student-courses graph: {num_edges}\")"
   ]
  },
  {
   "cell_type": "code",
   "execution_count": null,
   "metadata": {},
   "outputs": [],
   "source": [
    "max_weight = A_students_e.max()\n",
    "print(f\"The max number of common courses between two students: {max_weight}\")\n",
    "avg_weight = A_students_e.mean()\n",
    "print(f\"The avg number of common courses between two students: {avg_weight}\")\n",
    "std_weight = A_students_e.std()\n",
    "print(f\"The standard diviation: {std_weight}\")"
   ]
  },
  {
   "cell_type": "code",
   "execution_count": null,
   "metadata": {},
   "outputs": [],
   "source": [
    "degrees = np.count_nonzero(A_students_e, axis = 0)\n",
    "\n",
    "deg_hist_normalization = np.ones(degrees.shape[0]) / degrees.shape[0]\n",
    "\n",
    "plt.figure(1, figsize=(8, 4))\n",
    "plt.title('Student-courses graph degree distribution')\n",
    "plt.hist(degrees, weights=deg_hist_normalization);"
   ]
  },
  {
   "cell_type": "markdown",
   "metadata": {},
   "source": [
    "Now we save the graph for visualization:"
   ]
  },
  {
   "cell_type": "code",
   "execution_count": null,
   "metadata": {},
   "outputs": [],
   "source": [
    "G_student_e = nx.from_numpy_matrix(A_students_e)\n",
    "\n",
    "# Add node attributes\n",
    "students_section = []\n",
    "for row in pd_master[\"sct_student\"]:\n",
    "    if type(row) is not float:\n",
    "        students_section.append(row.split(\",\")[0])\n",
    "    else:\n",
    "        students_section.append(\"other\")\n",
    "students_section = pd.Series(students_section)\n",
    "\n",
    "nx.set_node_attributes(G_student_e, pd_master['gender'], 'gender')\n",
    "nx.set_node_attributes(G_student_e, students_section, 'section')\n",
    "#nx.write_gexf(G_student_e, \"gephi/epsilon_similarity_graph.gexf\")"
   ]
  },
  {
   "cell_type": "markdown",
   "metadata": {},
   "source": [
    "### 3.3 Clustering"
   ]
  },
  {
   "cell_type": "markdown",
   "metadata": {},
   "source": [
    "In this section we perform the data clustering on the epsilon-similarity graph (obtained in section 3.2.2). The clusterig will allow us to visualize better the relationships between students and could be used as back information to calibrate the ML algorithms. "
   ]
  },
  {
   "cell_type": "markdown",
   "metadata": {},
   "source": [
    "First let's plot observe the real clusters by knowing the real section label. This result will us help to validate the clustering algorithms."
   ]
  },
  {
   "cell_type": "markdown",
   "metadata": {},
   "source": [
    "#### 3.3.1 Plot with real labels "
   ]
  },
  {
   "cell_type": "code",
   "execution_count": null,
   "metadata": {},
   "outputs": [],
   "source": [
    "# seed the pseudorandom number generator\n",
    "# sections_label\n",
    "clusters = pd_labels['cluster'].unique() #list of str\n",
    "NUM_COLORS = len(clusters)\n",
    "cmap1 = plt.get_cmap('hsv')\n",
    "cmap2 = plt.get_cmap('magma')\n",
    "\n",
    "fig = plt.figure(figsize=(18,16))\n",
    "ax = plt.subplot(111)\n",
    "color1 = [cmap1(1.*i/math.ceil(NUM_COLORS/2)) for i in range(math.ceil(NUM_COLORS/2))]\n",
    "color2 = [cmap2(1.*i*2/math.floor(NUM_COLORS)) for i in range(math.floor(NUM_COLORS/2))]\n",
    "\n",
    "ax.set_prop_cycle(color=color1 + color2)\n",
    "\n",
    "for i in clusters:\n",
    "    mask = pd_labels[\"cluster\"] == i\n",
    "    ax.scatter(stu_TSNE_2d[mask, 0], stu_TSNE_2d[mask, 1], label=i)\n",
    "\n",
    "# Shrink current axis's height by 10% on the bottom\n",
    "box = ax.get_position()\n",
    "ax.set_position([box.x0, box.y0 + box.height * 0.1,\n",
    "                 box.width, box.height * 0.9])\n",
    "\n",
    "# Put a legend below current axis\n",
    "ax.legend(loc='upper center', bbox_to_anchor=(0.5, -0.05),\n",
    "          fancybox=True, shadow=True, ncol=5)\n",
    "plt.title(\"Real clusters\")\n",
    "fig1 = plt.gcf()\n",
    "plt.show()\n",
    "fig1.savefig('../Images/master_sections_real.png')"
   ]
  },
  {
   "cell_type": "markdown",
   "metadata": {},
   "source": [
    "#### 3.3.2 K-Means"
   ]
  },
  {
   "cell_type": "code",
   "execution_count": null,
   "metadata": {},
   "outputs": [],
   "source": [
    "from sklearn.cluster import KMeans\n",
    "n = 10 #before was 21\n",
    "y_pred_pca = KMeans(n_clusters=n, random_state=0).fit_predict(stu_PCA_2d) # Vector with cluster assignments\n",
    "y_pred_tsne = KMeans(n_clusters=n, random_state=0).fit_predict(stu_TSNE_2d) # Vector with cluster assignments\n",
    "y_pred_iso = KMeans(n_clusters=n, random_state=0).fit_predict(stu_Isomap_2d) # Vector with cluster assignments\n",
    "\n",
    "plt.figure(figsize=(18,5))\n",
    "plt.subplot(131)\n",
    "plt.scatter(stu_PCA_2d[:, 0], stu_PCA_2d[:, 1], c=y_pred_pca, cmap = \"hsv\")\n",
    "plt.title(\"K_Means on PCA\")\n",
    "plt.subplot(132)\n",
    "plt.scatter(stu_Isomap_2d[:, 0], stu_Isomap_2d[:, 1], c=y_pred_iso, cmap = \"hsv\")\n",
    "plt.title(\"K_Means on Isomap\")\n",
    "plt.subplot(133)\n",
    "plt.scatter(stu_TSNE_2d[:, 0], stu_TSNE_2d[:, 1], c=y_pred_tsne, cmap = \"hsv\")\n",
    "plt.title(\"K_Means on t-SNE\")\n",
    "plt.show()"
   ]
  },
  {
   "cell_type": "markdown",
   "metadata": {},
   "source": [
    "#### 3.3.3 Spectral Clustering"
   ]
  },
  {
   "cell_type": "code",
   "execution_count": null,
   "metadata": {},
   "outputs": [],
   "source": [
    "class SpectralClustering():\n",
    "    def __init__(self, n_classes: int, normalize: bool):\n",
    "        self.n_classes = n_classes\n",
    "        self.normalize = normalize\n",
    "        self.laplacian = None\n",
    "        self.e = None\n",
    "        self.U = None\n",
    "        self.clustering_method = KMeans(n_classes)\n",
    "        \n",
    "    def fit_predict(self, adjacency):\n",
    "        \"\"\" Your code should be correct both for the combinatorial\n",
    "            and the symmetric normalized spectral clustering.\n",
    "            Return:\n",
    "            y_pred (np.ndarray): cluster assignments.\n",
    "        \"\"\"\n",
    "        self.laplacian = compute_laplacian(adjacency, self.normalize)\n",
    "        self.e, self.U = spectral_decomposition(self.laplacian)\n",
    "        n_connected = compute_number_connected_components(self.e, threshold=1e-12)\n",
    "        first_columns = self.U[:, :self.n_classes]\n",
    "        if self.normalize:\n",
    "            first_columns = first_columns / np.linalg.norm(first_columns, axis=1)[:, None]\n",
    "        y_pred = self.clustering_method.fit_predict(first_columns)\n",
    "        return y_pred\n",
    "    \n",
    "################################################\n",
    "\n",
    "def spectral_decomposition(laplacian: np.ndarray):\n",
    "    \"\"\" Return:\n",
    "        lamb (np.array): eigenvalues of the Laplacian\n",
    "        U (np.ndarray): corresponding eigenvectors.\n",
    "    \"\"\"\n",
    "    return np.linalg.eigh(laplacian)\n",
    "\n",
    "def compute_laplacian(adjacency: np.ndarray, normalize: bool):\n",
    "    \"\"\" Return:\n",
    "        L (n x n ndarray): combinatorial or symmetric normalized Laplacian.\n",
    "    \"\"\"\n",
    "    D = np.diag(np.sum(adjacency, 1)) # Degree matrix\n",
    "    combinatorial = D - adjacency\n",
    "    if normalize:\n",
    "        D_norm = np.diag(np.clip(np.sum(adjacency, 1), 1, None)**(-1/2))\n",
    "        return D_norm @ combinatorial @ D_norm\n",
    "    else:\n",
    "        return combinatorial\n",
    "def compute_number_connected_components(lamb: np.array, threshold: float):\n",
    "    \"\"\" lamb: array of eigenvalues of a Laplacian\n",
    "        Return:\n",
    "        n_components (int): number of connected components.\n",
    "    \"\"\"\n",
    "    return np.count_nonzero(lamb <= threshold)"
   ]
  },
  {
   "cell_type": "code",
   "execution_count": null,
   "metadata": {},
   "outputs": [],
   "source": [
    "adjacency = A_students_e\n",
    "lamb_norm, _ = spectral_decomposition(compute_laplacian(adjacency, normalize=True))\n",
    "print(\"Connected components:\", compute_number_connected_components(lamb_norm, threshold=1e-12))\n",
    "n = 21 #21 was working ok\n",
    "\n",
    "# non normalized\n",
    "spectral_clustering = SpectralClustering(n_classes=n, normalize=False)\n",
    "y_pred = spectral_clustering.fit_predict(adjacency)\n",
    "# normalized\n",
    "spectral_clustering_n = SpectralClustering(n_classes=n, normalize=True)\n",
    "y_pred_norm = spectral_clustering_n.fit_predict(adjacency)\n",
    "\n",
    "fig, ax = plt.subplots(1,2,figsize=(12,5))\n",
    "ax[0].scatter(stu_TSNE_2d[:, 0], stu_TSNE_2d[:, 1], c=y_pred, cmap='hsv')\n",
    "ax[0].set_title('Spectral clustering - non normalized')\n",
    "ax[1].scatter(stu_TSNE_2d[:, 0], stu_TSNE_2d[:, 1], c=y_pred_norm, cmap='hsv')\n",
    "ax[1].set_title('Spectral clustering - normalized')\n",
    "plt.show()"
   ]
  },
  {
   "cell_type": "markdown",
   "metadata": {},
   "source": [
    "Without surprise we see that the nurmalized spectral clustering is better. \n",
    "Now let us compare K-Means and the normalized Spectral Clustering with the real labels of the sections:"
   ]
  },
  {
   "cell_type": "code",
   "execution_count": null,
   "metadata": {},
   "outputs": [],
   "source": [
    "plt.figure(figsize=(18,5))\n",
    "plt.subplot(131)\n",
    "for i in clusters:\n",
    "    mask = pd_labels[\"cluster\"] == i\n",
    "    plt.scatter(stu_TSNE_2d[mask, 0], stu_TSNE_2d[mask, 1], label=i, cmap = 'hsv')\n",
    "plt.title('Real labels')\n",
    "plt.subplot(132)\n",
    "plt.scatter(stu_TSNE_2d[:, 0], stu_TSNE_2d[:, 1], c=y_pred_tsne, cmap='hsv')\n",
    "plt.title('K-Means')\n",
    "plt.subplot(133)\n",
    "plt.scatter(stu_TSNE_2d[:, 0], stu_TSNE_2d[:, 1], c=y_pred_norm, cmap='hsv')\n",
    "plt.title('Spectral clustering - normalized')\n",
    "\n",
    "plt.show()"
   ]
  },
  {
   "cell_type": "markdown",
   "metadata": {},
   "source": [
    "We see that K-Means is the one working better. "
   ]
  },
  {
   "cell_type": "markdown",
   "metadata": {},
   "source": [
    "#### 3.4 Plot faculties labels"
   ]
  },
  {
   "cell_type": "code",
   "execution_count": null,
   "metadata": {},
   "outputs": [],
   "source": [
    "# plot reduced students with faculty labels\n",
    "fig = plt.figure(figsize=(15,15))\n",
    "\n",
    "for f in fac_list :\n",
    "    students_to_plot = stu_TSNE_2d_all[[i for i,fac in enumerate(students_fac) if fac == f], :]\n",
    "    plt.scatter(students_to_plot[:,0], students_to_plot[:,1], label=f, alpha = 0.8)\n",
    "\n",
    "\n",
    "plt.title('Embedding method: TSNE - color per faculty')\n",
    "plt.legend()\n",
    "plt.show()\n",
    "\n",
    "# let us make subplots to see more clearly\n",
    "fig = plt.figure(figsize=(20,20))\n",
    "\n",
    "plt.subplot(331)\n",
    "students_to_plot = stu_TSNE_2d_all[[i for i,fac in enumerate(students_fac) if fac == \"ENAC\"], :]\n",
    "plt.scatter(students_to_plot[:,0], students_to_plot[:,1], label=f, alpha = 0.8)\n",
    "plt.title(\"ENAC\")\n",
    "\n",
    "plt.subplot(332)\n",
    "students_to_plot = stu_TSNE_2d_all[[i for i,fac in enumerate(students_fac) if fac == \"IC\"], :]\n",
    "plt.scatter(students_to_plot[:,0], students_to_plot[:,1], label=f, alpha = 0.8, color = \"orange\")\n",
    "plt.title(\"IC\")\n",
    "\n",
    "plt.subplot(333)\n",
    "students_to_plot = stu_TSNE_2d_all[[i for i,fac in enumerate(students_fac) if fac == \"SB\"], :]\n",
    "plt.scatter(students_to_plot[:,0], students_to_plot[:,1], label=f, alpha = 0.8, color = \"green\")\n",
    "plt.title(\"SB\")\n",
    "\n",
    "plt.subplot(334)\n",
    "students_to_plot = stu_TSNE_2d_all[[i for i,fac in enumerate(students_fac) if fac == \"STI\"], :]\n",
    "plt.scatter(students_to_plot[:,0], students_to_plot[:,1], label=f, alpha = 0.8, color = \"red\")\n",
    "plt.title(\"STI\")\n",
    "\n",
    "plt.subplot(335)\n",
    "students_to_plot = stu_TSNE_2d_all[[i for i,fac in enumerate(students_fac) if fac == \"SV\"], :]\n",
    "plt.scatter(students_to_plot[:,0], students_to_plot[:,1], label=f, alpha = 0.8, color = \"purple\")\n",
    "plt.title(\"SV\")\n",
    "\n",
    "plt.subplot(336)\n",
    "students_to_plot = stu_TSNE_2d_all[[i for i,fac in enumerate(students_fac) if fac == \"CDH\"], :]\n",
    "plt.scatter(students_to_plot[:,0], students_to_plot[:,1], label=f, alpha = 0.8, color = \"brown\")\n",
    "plt.title(\"CDH\")\n",
    "\n",
    "plt.subplot(338)\n",
    "students_to_plot = stu_TSNE_2d_all[[i for i,fac in enumerate(students_fac) if fac == \"CDM\"], :]\n",
    "plt.scatter(students_to_plot[:,0], students_to_plot[:,1], label=f, alpha = 0.8, color = \"pink\")\n",
    "plt.title(\"CDM\")\n",
    "\n",
    "plt.show()"
   ]
  },
  {
   "cell_type": "markdown",
   "metadata": {},
   "source": [
    "#### 3.5 Gender distribution"
   ]
  },
  {
   "cell_type": "markdown",
   "metadata": {},
   "source": [
    "Here we plot the focus of this project: the gender distribution. To not omiss anything, we come back to the non filtered matrix and we redo the dimensionality reduction on it:"
   ]
  },
  {
   "cell_type": "code",
   "execution_count": null,
   "metadata": {},
   "outputs": [],
   "source": [
    "TSNE_embedding_all = TSNE(n_components=2) #embedding without course filtering\n",
    "stu_TSNE_2d_all = TSNE_embedding_all.fit_transform(student_course_matrix)"
   ]
  },
  {
   "cell_type": "code",
   "execution_count": null,
   "metadata": {},
   "outputs": [],
   "source": [
    "# plot with gender\n",
    "fig = plt.figure(figsize=(15,15))\n",
    "\n",
    "males = stu_TSNE_2d_all[[i for i,gen in enumerate(students_gender) if gen == 1], :]\n",
    "plt.scatter(males[:,0], males[:,1], label=\"males\", alpha = 0.8)\n",
    "\n",
    "females = stu_TSNE_2d_all[[i for i,gen in enumerate(students_gender) if gen == 0], :]\n",
    "plt.scatter(females[:,0], females[:,1], label=\"females\", alpha = 0.8, color=\"red\")\n",
    "\n",
    "plt.title('Embedding method: TSNE - color for gender')\n",
    "plt.legend()\n",
    "plt.show()"
   ]
  },
  {
   "cell_type": "markdown",
   "metadata": {},
   "source": [
    "This sight on gender distribution allow us to say one thing : there exists females everywhere in EPFL. We cannot say more yet because this visualization does not represent reality : the size of the dots and their superposition doesn't reflect real amounts of students."
   ]
  },
  {
   "cell_type": "markdown",
   "metadata": {},
   "source": [
    "## 4. Prediction with Machine Learning"
   ]
  },
  {
   "cell_type": "markdown",
   "metadata": {},
   "source": [
    "### 4.1. Using SVM\n",
    "\n",
    "Linear SVM on the high dimensional data is not only less good in predicting (its own training data) than SVM on 2D data with RBF kernel, it also cannot be used to predict on other years because courses changes and thus the \"course space\" is not the same !\n",
    "\n",
    "That is why we use a SVM with a RBF kernel on the 2D data.\n",
    "\n",
    "Let's us first classify the students according to their gender. Now that we have this classification, we can use it to predict a student's gender given its course choice."
   ]
  },
  {
   "cell_type": "code",
   "execution_count": null,
   "metadata": {},
   "outputs": [],
   "source": [
    "# create SVM\n",
    "svm_rbf = SVC(kernel = \"rbf\")\n",
    "\n",
    "# fit features (dim reduced courses) to labels (gender)\n",
    "svm_rbf.fit(stu_TSNE_2d_all, students_gender)\n",
    "# get boundary\n",
    "\n",
    "x_min = stu_TSNE_2d[:,0].min() - 1\n",
    "x_max = stu_TSNE_2d[:,0].max() + 1\n",
    "y_min = stu_TSNE_2d[:,1].min() - 1\n",
    "y_max = stu_TSNE_2d[:,1].max() + 1\n",
    "\n",
    "h = 1; # step size in grid\n",
    "xx, yy = np.meshgrid(np.arange(x_min, x_max, h), np.arange(y_min, y_max, h))\n",
    "\n",
    "Z = svm_rbf.decision_function(np.c_[xx.ravel(), yy.ravel()])\n",
    "Z = Z.reshape(xx.shape)\n",
    "# plot data and boundary\n",
    "fig, ax = plt.subplots(figsize=(15,15))\n",
    "\n",
    "plt.scatter(males[:,0], males[:,1], label=\"males\", alpha = 0.1)\n",
    "plt.scatter(females[:,0], females[:,1], label=\"females\", alpha = 0.1, color=\"red\")\n",
    "cm = plt.cm.RdBu\n",
    "\n",
    "ax.contourf(xx, yy, Z, cmap = cm, alpha=1)\n",
    "plt.show()"
   ]
  },
  {
   "cell_type": "code",
   "execution_count": null,
   "metadata": {},
   "outputs": [],
   "source": [
    "# plot each faculty with the boundaries\n",
    "fig, ax = plt.subplots(figsize=(20,20))\n",
    "\n",
    "ax = plt.subplot(331)\n",
    "students_to_plot = stu_TSNE_2d_all[[i for i,fac in enumerate(students_fac) if fac == \"ENAC\"], :]\n",
    "plt.scatter(students_to_plot[:,0], students_to_plot[:,1], label=f, alpha = 0.8, color = \"green\")\n",
    "ax.contourf(xx, yy, Z, cmap = cm, alpha=.5)\n",
    "plt.title(\"ENAC\")\n",
    "\n",
    "ax = plt.subplot(332)\n",
    "students_to_plot = stu_TSNE_2d_all[[i for i,fac in enumerate(students_fac) if fac == \"IC\"], :]\n",
    "plt.scatter(students_to_plot[:,0], students_to_plot[:,1], label=f, alpha = 0.8, color = \"green\")\n",
    "ax.contourf(xx, yy, Z, cmap = cm, alpha=.5)\n",
    "plt.title(\"IC\")\n",
    "\n",
    "ax = plt.subplot(333)\n",
    "students_to_plot = stu_TSNE_2d_all[[i for i,fac in enumerate(students_fac) if fac == \"SB\"], :]\n",
    "plt.scatter(students_to_plot[:,0], students_to_plot[:,1], label=f, alpha = 0.8, color = \"green\")\n",
    "ax.contourf(xx, yy, Z, cmap = cm, alpha=.5)\n",
    "plt.title(\"SB\")\n",
    "\n",
    "ax = plt.subplot(334)\n",
    "students_to_plot = stu_TSNE_2d_all[[i for i,fac in enumerate(students_fac) if fac == \"STI\"], :]\n",
    "plt.scatter(students_to_plot[:,0], students_to_plot[:,1], label=f, alpha = 0.8, color = \"green\")\n",
    "ax.contourf(xx, yy, Z, cmap = cm, alpha=.5)\n",
    "plt.title(\"STI\")\n",
    "\n",
    "ax = plt.subplot(335)\n",
    "students_to_plot = stu_TSNE_2d_all[[i for i,fac in enumerate(students_fac) if fac == \"SV\"], :]\n",
    "plt.scatter(students_to_plot[:,0], students_to_plot[:,1], label=f, alpha = 0.8, color = \"green\")\n",
    "ax.contourf(xx, yy, Z, cmap = cm, alpha=.5)\n",
    "plt.title(\"SV\")\n",
    "\n",
    "ax = plt.subplot(336)\n",
    "students_to_plot = stu_TSNE_2d_all[[i for i,fac in enumerate(students_fac) if fac == \"CDH\"], :]\n",
    "plt.scatter(students_to_plot[:,0], students_to_plot[:,1], label=f, alpha = 0.8, color = \"green\")\n",
    "ax.contourf(xx, yy, Z, cmap = cm, alpha=.5)\n",
    "plt.title(\"CDH\")\n",
    "\n",
    "ax = plt.subplot(338)\n",
    "students_to_plot = stu_TSNE_2d_all[[i for i,fac in enumerate(students_fac) if fac == \"CDM\"], :]\n",
    "plt.scatter(students_to_plot[:,0], students_to_plot[:,1], label=f, alpha = 0.8, color = \"green\")\n",
    "ax.contourf(xx, yy, Z, cmap = cm, alpha=.5)\n",
    "plt.title(\"CDM\")\n",
    "\n",
    "plt.show()"
   ]
  },
  {
   "cell_type": "markdown",
   "metadata": {},
   "source": [
    "Visualization through classification is much better : it allow us to see where the amount of females is truely significant. The figure above allow to overlap faculties and the classification and roughly estimate wher emost females are. It shows, without surprize, that many of them are in ENAC and SV faculties which is what we can observe in our everyday life at EPFL. The classification also shows that most of the students are males, since picking a random point in the \"2D course space\" will most probably end up in the blue region (male)."
   ]
  },
  {
   "cell_type": "code",
   "execution_count": null,
   "metadata": {},
   "outputs": [],
   "source": [
    "# apply dimentionality reduction to 2D\n",
    "TSNE_embedding = TSNE(n_components=2)\n",
    "test_stu_TSNE_2d = TSNE_embedding.fit_transform(student_course_matrix_test)"
   ]
  },
  {
   "cell_type": "code",
   "execution_count": null,
   "metadata": {},
   "outputs": [],
   "source": [
    "student_course_matrix_test.shape\n",
    "test_stu_TSNE_2d"
   ]
  },
  {
   "cell_type": "code",
   "execution_count": null,
   "metadata": {},
   "outputs": [],
   "source": [
    "# test\n",
    "test_score = svm_rbf.score(test_stu_TSNE_2d, students_gender_test)\n",
    "print(\"score of RBF kernel SVM in 2D on test data is : \", test_score)"
   ]
  },
  {
   "cell_type": "markdown",
   "metadata": {},
   "source": [
    "Now let's try SVM with a linear kernel: "
   ]
  },
  {
   "cell_type": "code",
   "execution_count": null,
   "metadata": {},
   "outputs": [],
   "source": [
    "# create a linear SVM\n",
    "svm_lin = SVC(kernel = \"linear\")\n",
    "\n",
    "# fit features (dim reduced courses) to labels (gender)\n",
    "svm_lin.fit(stu_TSNE_2d_all, students_gender)\n",
    "\n",
    "# test\n",
    "test_score = svm_lin.score(test_stu_TSNE_2d, students_gender_test)\n",
    "print(\"score of Linear kernel SVM in 2D on test data is : \", test_score)"
   ]
  },
  {
   "cell_type": "markdown",
   "metadata": {},
   "source": [
    "This score is not great but not bad either. It is good enogh for a gross approximation."
   ]
  },
  {
   "cell_type": "markdown",
   "metadata": {},
   "source": [
    "### 4.2 Logistic regression classifier"
   ]
  },
  {
   "cell_type": "markdown",
   "metadata": {},
   "source": [
    "For curiosity let's try also the logistic regression classifier. We want to make it quick to run, thus we split the 2017-2019 dataset in 3 for training, validation and testing."
   ]
  },
  {
   "cell_type": "code",
   "execution_count": null,
   "metadata": {},
   "outputs": [],
   "source": [
    "features = student_course_matrix_filt\n",
    "labels = np.asarray(gender_label)\n",
    "nb_data    = pd_labels.shape[0]\n",
    "#divide the dataset in 3\n",
    "i1 = int(np.floor(features.shape[0]/3))\n",
    "i2 = int(np.ceil(features.shape[0]*2/3))\n",
    "#setting the masks\n",
    "train_mask = [True if i <i1 else False for i in range(0, nb_data)]\n",
    "val_mask   = [True if i1 <= i <i2 else False for i in range(0, nb_data)]\n",
    "test_mask  =[True if i2 <= i  else False for i in range(0, nb_data)]\n",
    "\n",
    "#selecting trains, vals, tests for training and testing for the features\n",
    "train_features = features[train_mask]\n",
    "val_features = features[val_mask]\n",
    "test_features = features[test_mask]\n",
    "\n",
    "# Fit a logistic regression model\n",
    "# Logistic regression hyper-parameters\n",
    "C = 160 # Inverse of regularization strength 1/lambda.\n",
    "penalty = 'l2' # [‘l1’, ‘l2’]\n",
    "tol = 1e-2 # Tolerance for stopping criteria\n",
    "max_iter = 50 # Maximum number of iterations taken for the solvers to converge.\n",
    "\n",
    "#GENDER\n",
    "#selecting trains, vals, tests for training and testing\n",
    "\n",
    "train_labels = labels[train_mask]\n",
    "val_labels = labels[val_mask]\n",
    "test_labels = labels[test_mask]\n",
    "# Fit a logistic regression model\n",
    "logisticRegr = LogisticRegression(C=C, penalty=penalty, tol=tol, max_iter=max_iter, verbose=1, solver='liblinear', multi_class='auto')\n",
    "logisticRegr.fit(train_features, train_labels)\n",
    "y_pred = logisticRegr.predict(test_features)\n",
    "y_true = labels[test_mask]\n",
    "train_acc = logisticRegr.score(train_features, train_labels) \n",
    "val_acc = logisticRegr.score(val_features, val_labels)  \n",
    "test_acc = logisticRegr.score(test_features, test_labels) \n",
    "\n",
    "print('Train accuracy {:.4f} | Validation accuracy {:.4f} | Test accuracy {:.4f}'.format(train_acc, val_acc, test_acc))"
   ]
  },
  {
   "cell_type": "code",
   "execution_count": null,
   "metadata": {},
   "outputs": [],
   "source": []
  }
 ],
 "metadata": {
  "kernelspec": {
   "display_name": "Python 3",
   "language": "python",
   "name": "python3"
  },
  "language_info": {
   "codemirror_mode": {
    "name": "ipython",
    "version": 3
   },
   "file_extension": ".py",
   "mimetype": "text/x-python",
   "name": "python",
   "nbconvert_exporter": "python",
   "pygments_lexer": "ipython3",
   "version": "3.7.4"
  }
 },
 "nbformat": 4,
 "nbformat_minor": 4
}
